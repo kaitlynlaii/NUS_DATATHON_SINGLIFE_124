{
  "nbformat": 4,
  "nbformat_minor": 0,
  "metadata": {
    "colab": {
      "provenance": [],
      "include_colab_link": true
    },
    "kernelspec": {
      "name": "python3",
      "display_name": "Python 3"
    },
    "language_info": {
      "name": "python"
    }
  },
  "cells": [
    {
      "cell_type": "markdown",
      "metadata": {
        "id": "view-in-github",
        "colab_type": "text"
      },
      "source": [
        "<a href=\"https://colab.research.google.com/github/kaitlynlaii/NUS_DATATHON_SINGLIFE_NUS_124/blob/main/EDA.ipynb\" target=\"_parent\"><img src=\"https://colab.research.google.com/assets/colab-badge.svg\" alt=\"Open In Colab\"/></a>"
      ]
    },
    {
      "cell_type": "markdown",
      "source": [
        "\n",
        "## 1. Data Preparation"
      ],
      "metadata": {
        "id": "yAIb5rr5Kt88"
      }
    },
    {
      "cell_type": "markdown",
      "source": [
        "### 1.1 Importing dataset"
      ],
      "metadata": {
        "id": "w3Ynjs_DK56N"
      }
    },
    {
      "cell_type": "code",
      "execution_count": null,
      "metadata": {
        "colab": {
          "base_uri": "https://localhost:8080/",
          "height": 256
        },
        "id": "ROoJUNi5KYjz",
        "outputId": "6b325d7b-3e9f-413e-de57-f43acb640eb1"
      },
      "outputs": [
        {
          "output_type": "execute_result",
          "data": {
            "text/plain": [
              "          clntnum race_desc ctrycode_desc clttype stat_flag min_occ_date  \\\n",
              "19550  91b546e924   Chinese     Singapore       P    ACTIVE   2017-10-31   \n",
              "4600   896bae548c   Chinese     Singapore       P    ACTIVE   2007-05-23   \n",
              "13337  f364439ae6    Others     Singapore       P    ACTIVE   2019-08-31   \n",
              "15074  70f319cfe1   Chinese     Singapore       P    ACTIVE   2021-10-18   \n",
              "19724  2647a81328   Chinese     Singapore       P    ACTIVE   2018-07-20   \n",
              "\n",
              "       cltdob_fix cltsex_fix  flg_substandard  flg_is_borderline_standard  \\\n",
              "19550  1974-05-09     Female              0.0                         0.0   \n",
              "4600   1979-11-11       Male              0.0                         0.0   \n",
              "13337  1976-01-28       Male              0.0                         0.0   \n",
              "15074  1976-03-19     Female              0.0                         0.0   \n",
              "19724  1995-07-31     Female              0.0                         0.0   \n",
              "\n",
              "       ...  recency_giclaim  giclaim_cnt_success  recency_giclaim_success  \\\n",
              "19550  ...              NaN                 None                     None   \n",
              "4600   ...              NaN                 None                     None   \n",
              "13337  ...              NaN                 None                     None   \n",
              "15074  ...              NaN                 None                     None   \n",
              "19724  ...              NaN                 None                     None   \n",
              "\n",
              "       giclaim_cnt_unsuccess  recency_giclaim_unsuccess  \\\n",
              "19550                   None                       None   \n",
              "4600                    None                       None   \n",
              "13337                   None                       None   \n",
              "15074                   None                       None   \n",
              "19724                   None                       None   \n",
              "\n",
              "       flg_gi_claim_29d435_ever  flg_gi_claim_058815_ever  \\\n",
              "19550                      None                      None   \n",
              "4600                       None                      None   \n",
              "13337                      None                      None   \n",
              "15074                      None                      None   \n",
              "19724                      None                      None   \n",
              "\n",
              "       flg_gi_claim_42e115_ever  flg_gi_claim_856320_ever  f_purchase_lh  \n",
              "19550                      None                      None            NaN  \n",
              "4600                       None                      None            NaN  \n",
              "13337                      None                      None            NaN  \n",
              "15074                      None                      None            NaN  \n",
              "19724                      None                      None            NaN  \n",
              "\n",
              "[5 rows x 304 columns]"
            ],
            "text/html": [
              "\n",
              "  <div id=\"df-30247e74-5687-4a75-b048-08dfd2f446cd\" class=\"colab-df-container\">\n",
              "    <div>\n",
              "<style scoped>\n",
              "    .dataframe tbody tr th:only-of-type {\n",
              "        vertical-align: middle;\n",
              "    }\n",
              "\n",
              "    .dataframe tbody tr th {\n",
              "        vertical-align: top;\n",
              "    }\n",
              "\n",
              "    .dataframe thead th {\n",
              "        text-align: right;\n",
              "    }\n",
              "</style>\n",
              "<table border=\"1\" class=\"dataframe\">\n",
              "  <thead>\n",
              "    <tr style=\"text-align: right;\">\n",
              "      <th></th>\n",
              "      <th>clntnum</th>\n",
              "      <th>race_desc</th>\n",
              "      <th>ctrycode_desc</th>\n",
              "      <th>clttype</th>\n",
              "      <th>stat_flag</th>\n",
              "      <th>min_occ_date</th>\n",
              "      <th>cltdob_fix</th>\n",
              "      <th>cltsex_fix</th>\n",
              "      <th>flg_substandard</th>\n",
              "      <th>flg_is_borderline_standard</th>\n",
              "      <th>...</th>\n",
              "      <th>recency_giclaim</th>\n",
              "      <th>giclaim_cnt_success</th>\n",
              "      <th>recency_giclaim_success</th>\n",
              "      <th>giclaim_cnt_unsuccess</th>\n",
              "      <th>recency_giclaim_unsuccess</th>\n",
              "      <th>flg_gi_claim_29d435_ever</th>\n",
              "      <th>flg_gi_claim_058815_ever</th>\n",
              "      <th>flg_gi_claim_42e115_ever</th>\n",
              "      <th>flg_gi_claim_856320_ever</th>\n",
              "      <th>f_purchase_lh</th>\n",
              "    </tr>\n",
              "  </thead>\n",
              "  <tbody>\n",
              "    <tr>\n",
              "      <th>19550</th>\n",
              "      <td>91b546e924</td>\n",
              "      <td>Chinese</td>\n",
              "      <td>Singapore</td>\n",
              "      <td>P</td>\n",
              "      <td>ACTIVE</td>\n",
              "      <td>2017-10-31</td>\n",
              "      <td>1974-05-09</td>\n",
              "      <td>Female</td>\n",
              "      <td>0.0</td>\n",
              "      <td>0.0</td>\n",
              "      <td>...</td>\n",
              "      <td>NaN</td>\n",
              "      <td>None</td>\n",
              "      <td>None</td>\n",
              "      <td>None</td>\n",
              "      <td>None</td>\n",
              "      <td>None</td>\n",
              "      <td>None</td>\n",
              "      <td>None</td>\n",
              "      <td>None</td>\n",
              "      <td>NaN</td>\n",
              "    </tr>\n",
              "    <tr>\n",
              "      <th>4600</th>\n",
              "      <td>896bae548c</td>\n",
              "      <td>Chinese</td>\n",
              "      <td>Singapore</td>\n",
              "      <td>P</td>\n",
              "      <td>ACTIVE</td>\n",
              "      <td>2007-05-23</td>\n",
              "      <td>1979-11-11</td>\n",
              "      <td>Male</td>\n",
              "      <td>0.0</td>\n",
              "      <td>0.0</td>\n",
              "      <td>...</td>\n",
              "      <td>NaN</td>\n",
              "      <td>None</td>\n",
              "      <td>None</td>\n",
              "      <td>None</td>\n",
              "      <td>None</td>\n",
              "      <td>None</td>\n",
              "      <td>None</td>\n",
              "      <td>None</td>\n",
              "      <td>None</td>\n",
              "      <td>NaN</td>\n",
              "    </tr>\n",
              "    <tr>\n",
              "      <th>13337</th>\n",
              "      <td>f364439ae6</td>\n",
              "      <td>Others</td>\n",
              "      <td>Singapore</td>\n",
              "      <td>P</td>\n",
              "      <td>ACTIVE</td>\n",
              "      <td>2019-08-31</td>\n",
              "      <td>1976-01-28</td>\n",
              "      <td>Male</td>\n",
              "      <td>0.0</td>\n",
              "      <td>0.0</td>\n",
              "      <td>...</td>\n",
              "      <td>NaN</td>\n",
              "      <td>None</td>\n",
              "      <td>None</td>\n",
              "      <td>None</td>\n",
              "      <td>None</td>\n",
              "      <td>None</td>\n",
              "      <td>None</td>\n",
              "      <td>None</td>\n",
              "      <td>None</td>\n",
              "      <td>NaN</td>\n",
              "    </tr>\n",
              "    <tr>\n",
              "      <th>15074</th>\n",
              "      <td>70f319cfe1</td>\n",
              "      <td>Chinese</td>\n",
              "      <td>Singapore</td>\n",
              "      <td>P</td>\n",
              "      <td>ACTIVE</td>\n",
              "      <td>2021-10-18</td>\n",
              "      <td>1976-03-19</td>\n",
              "      <td>Female</td>\n",
              "      <td>0.0</td>\n",
              "      <td>0.0</td>\n",
              "      <td>...</td>\n",
              "      <td>NaN</td>\n",
              "      <td>None</td>\n",
              "      <td>None</td>\n",
              "      <td>None</td>\n",
              "      <td>None</td>\n",
              "      <td>None</td>\n",
              "      <td>None</td>\n",
              "      <td>None</td>\n",
              "      <td>None</td>\n",
              "      <td>NaN</td>\n",
              "    </tr>\n",
              "    <tr>\n",
              "      <th>19724</th>\n",
              "      <td>2647a81328</td>\n",
              "      <td>Chinese</td>\n",
              "      <td>Singapore</td>\n",
              "      <td>P</td>\n",
              "      <td>ACTIVE</td>\n",
              "      <td>2018-07-20</td>\n",
              "      <td>1995-07-31</td>\n",
              "      <td>Female</td>\n",
              "      <td>0.0</td>\n",
              "      <td>0.0</td>\n",
              "      <td>...</td>\n",
              "      <td>NaN</td>\n",
              "      <td>None</td>\n",
              "      <td>None</td>\n",
              "      <td>None</td>\n",
              "      <td>None</td>\n",
              "      <td>None</td>\n",
              "      <td>None</td>\n",
              "      <td>None</td>\n",
              "      <td>None</td>\n",
              "      <td>NaN</td>\n",
              "    </tr>\n",
              "  </tbody>\n",
              "</table>\n",
              "<p>5 rows × 304 columns</p>\n",
              "</div>\n",
              "    <div class=\"colab-df-buttons\">\n",
              "\n",
              "  <div class=\"colab-df-container\">\n",
              "    <button class=\"colab-df-convert\" onclick=\"convertToInteractive('df-30247e74-5687-4a75-b048-08dfd2f446cd')\"\n",
              "            title=\"Convert this dataframe to an interactive table.\"\n",
              "            style=\"display:none;\">\n",
              "\n",
              "  <svg xmlns=\"http://www.w3.org/2000/svg\" height=\"24px\" viewBox=\"0 -960 960 960\">\n",
              "    <path d=\"M120-120v-720h720v720H120Zm60-500h600v-160H180v160Zm220 220h160v-160H400v160Zm0 220h160v-160H400v160ZM180-400h160v-160H180v160Zm440 0h160v-160H620v160ZM180-180h160v-160H180v160Zm440 0h160v-160H620v160Z\"/>\n",
              "  </svg>\n",
              "    </button>\n",
              "\n",
              "  <style>\n",
              "    .colab-df-container {\n",
              "      display:flex;\n",
              "      gap: 12px;\n",
              "    }\n",
              "\n",
              "    .colab-df-convert {\n",
              "      background-color: #E8F0FE;\n",
              "      border: none;\n",
              "      border-radius: 50%;\n",
              "      cursor: pointer;\n",
              "      display: none;\n",
              "      fill: #1967D2;\n",
              "      height: 32px;\n",
              "      padding: 0 0 0 0;\n",
              "      width: 32px;\n",
              "    }\n",
              "\n",
              "    .colab-df-convert:hover {\n",
              "      background-color: #E2EBFA;\n",
              "      box-shadow: 0px 1px 2px rgba(60, 64, 67, 0.3), 0px 1px 3px 1px rgba(60, 64, 67, 0.15);\n",
              "      fill: #174EA6;\n",
              "    }\n",
              "\n",
              "    .colab-df-buttons div {\n",
              "      margin-bottom: 4px;\n",
              "    }\n",
              "\n",
              "    [theme=dark] .colab-df-convert {\n",
              "      background-color: #3B4455;\n",
              "      fill: #D2E3FC;\n",
              "    }\n",
              "\n",
              "    [theme=dark] .colab-df-convert:hover {\n",
              "      background-color: #434B5C;\n",
              "      box-shadow: 0px 1px 3px 1px rgba(0, 0, 0, 0.15);\n",
              "      filter: drop-shadow(0px 1px 2px rgba(0, 0, 0, 0.3));\n",
              "      fill: #FFFFFF;\n",
              "    }\n",
              "  </style>\n",
              "\n",
              "    <script>\n",
              "      const buttonEl =\n",
              "        document.querySelector('#df-30247e74-5687-4a75-b048-08dfd2f446cd button.colab-df-convert');\n",
              "      buttonEl.style.display =\n",
              "        google.colab.kernel.accessAllowed ? 'block' : 'none';\n",
              "\n",
              "      async function convertToInteractive(key) {\n",
              "        const element = document.querySelector('#df-30247e74-5687-4a75-b048-08dfd2f446cd');\n",
              "        const dataTable =\n",
              "          await google.colab.kernel.invokeFunction('convertToInteractive',\n",
              "                                                    [key], {});\n",
              "        if (!dataTable) return;\n",
              "\n",
              "        const docLinkHtml = 'Like what you see? Visit the ' +\n",
              "          '<a target=\"_blank\" href=https://colab.research.google.com/notebooks/data_table.ipynb>data table notebook</a>'\n",
              "          + ' to learn more about interactive tables.';\n",
              "        element.innerHTML = '';\n",
              "        dataTable['output_type'] = 'display_data';\n",
              "        await google.colab.output.renderOutput(dataTable, element);\n",
              "        const docLink = document.createElement('div');\n",
              "        docLink.innerHTML = docLinkHtml;\n",
              "        element.appendChild(docLink);\n",
              "      }\n",
              "    </script>\n",
              "  </div>\n",
              "\n",
              "\n",
              "<div id=\"df-84c4db5d-a6ba-4de0-80a9-f508f5b2660b\">\n",
              "  <button class=\"colab-df-quickchart\" onclick=\"quickchart('df-84c4db5d-a6ba-4de0-80a9-f508f5b2660b')\"\n",
              "            title=\"Suggest charts\"\n",
              "            style=\"display:none;\">\n",
              "\n",
              "<svg xmlns=\"http://www.w3.org/2000/svg\" height=\"24px\"viewBox=\"0 0 24 24\"\n",
              "     width=\"24px\">\n",
              "    <g>\n",
              "        <path d=\"M19 3H5c-1.1 0-2 .9-2 2v14c0 1.1.9 2 2 2h14c1.1 0 2-.9 2-2V5c0-1.1-.9-2-2-2zM9 17H7v-7h2v7zm4 0h-2V7h2v10zm4 0h-2v-4h2v4z\"/>\n",
              "    </g>\n",
              "</svg>\n",
              "  </button>\n",
              "\n",
              "<style>\n",
              "  .colab-df-quickchart {\n",
              "      --bg-color: #E8F0FE;\n",
              "      --fill-color: #1967D2;\n",
              "      --hover-bg-color: #E2EBFA;\n",
              "      --hover-fill-color: #174EA6;\n",
              "      --disabled-fill-color: #AAA;\n",
              "      --disabled-bg-color: #DDD;\n",
              "  }\n",
              "\n",
              "  [theme=dark] .colab-df-quickchart {\n",
              "      --bg-color: #3B4455;\n",
              "      --fill-color: #D2E3FC;\n",
              "      --hover-bg-color: #434B5C;\n",
              "      --hover-fill-color: #FFFFFF;\n",
              "      --disabled-bg-color: #3B4455;\n",
              "      --disabled-fill-color: #666;\n",
              "  }\n",
              "\n",
              "  .colab-df-quickchart {\n",
              "    background-color: var(--bg-color);\n",
              "    border: none;\n",
              "    border-radius: 50%;\n",
              "    cursor: pointer;\n",
              "    display: none;\n",
              "    fill: var(--fill-color);\n",
              "    height: 32px;\n",
              "    padding: 0;\n",
              "    width: 32px;\n",
              "  }\n",
              "\n",
              "  .colab-df-quickchart:hover {\n",
              "    background-color: var(--hover-bg-color);\n",
              "    box-shadow: 0 1px 2px rgba(60, 64, 67, 0.3), 0 1px 3px 1px rgba(60, 64, 67, 0.15);\n",
              "    fill: var(--button-hover-fill-color);\n",
              "  }\n",
              "\n",
              "  .colab-df-quickchart-complete:disabled,\n",
              "  .colab-df-quickchart-complete:disabled:hover {\n",
              "    background-color: var(--disabled-bg-color);\n",
              "    fill: var(--disabled-fill-color);\n",
              "    box-shadow: none;\n",
              "  }\n",
              "\n",
              "  .colab-df-spinner {\n",
              "    border: 2px solid var(--fill-color);\n",
              "    border-color: transparent;\n",
              "    border-bottom-color: var(--fill-color);\n",
              "    animation:\n",
              "      spin 1s steps(1) infinite;\n",
              "  }\n",
              "\n",
              "  @keyframes spin {\n",
              "    0% {\n",
              "      border-color: transparent;\n",
              "      border-bottom-color: var(--fill-color);\n",
              "      border-left-color: var(--fill-color);\n",
              "    }\n",
              "    20% {\n",
              "      border-color: transparent;\n",
              "      border-left-color: var(--fill-color);\n",
              "      border-top-color: var(--fill-color);\n",
              "    }\n",
              "    30% {\n",
              "      border-color: transparent;\n",
              "      border-left-color: var(--fill-color);\n",
              "      border-top-color: var(--fill-color);\n",
              "      border-right-color: var(--fill-color);\n",
              "    }\n",
              "    40% {\n",
              "      border-color: transparent;\n",
              "      border-right-color: var(--fill-color);\n",
              "      border-top-color: var(--fill-color);\n",
              "    }\n",
              "    60% {\n",
              "      border-color: transparent;\n",
              "      border-right-color: var(--fill-color);\n",
              "    }\n",
              "    80% {\n",
              "      border-color: transparent;\n",
              "      border-right-color: var(--fill-color);\n",
              "      border-bottom-color: var(--fill-color);\n",
              "    }\n",
              "    90% {\n",
              "      border-color: transparent;\n",
              "      border-bottom-color: var(--fill-color);\n",
              "    }\n",
              "  }\n",
              "</style>\n",
              "\n",
              "  <script>\n",
              "    async function quickchart(key) {\n",
              "      const quickchartButtonEl =\n",
              "        document.querySelector('#' + key + ' button');\n",
              "      quickchartButtonEl.disabled = true;  // To prevent multiple clicks.\n",
              "      quickchartButtonEl.classList.add('colab-df-spinner');\n",
              "      try {\n",
              "        const charts = await google.colab.kernel.invokeFunction(\n",
              "            'suggestCharts', [key], {});\n",
              "      } catch (error) {\n",
              "        console.error('Error during call to suggestCharts:', error);\n",
              "      }\n",
              "      quickchartButtonEl.classList.remove('colab-df-spinner');\n",
              "      quickchartButtonEl.classList.add('colab-df-quickchart-complete');\n",
              "    }\n",
              "    (() => {\n",
              "      let quickchartButtonEl =\n",
              "        document.querySelector('#df-84c4db5d-a6ba-4de0-80a9-f508f5b2660b button');\n",
              "      quickchartButtonEl.style.display =\n",
              "        google.colab.kernel.accessAllowed ? 'block' : 'none';\n",
              "    })();\n",
              "  </script>\n",
              "</div>\n",
              "\n",
              "    </div>\n",
              "  </div>\n"
            ]
          },
          "metadata": {},
          "execution_count": 33
        }
      ],
      "source": [
        "import pandas as pd\n",
        "import numpy as np\n",
        "\n",
        "df = pd.read_parquet('catB_train.parquet')\n",
        "df.head()"
      ]
    },
    {
      "cell_type": "code",
      "source": [
        "df.shape"
      ],
      "metadata": {
        "colab": {
          "base_uri": "https://localhost:8080/"
        },
        "id": "mUp49JG1LL__",
        "outputId": "db2fe90e-8352-45d6-9035-468c41596e9b"
      },
      "execution_count": null,
      "outputs": [
        {
          "output_type": "execute_result",
          "data": {
            "text/plain": [
              "(17992, 304)"
            ]
          },
          "metadata": {},
          "execution_count": 3
        }
      ]
    },
    {
      "cell_type": "code",
      "source": [
        "df.info()"
      ],
      "metadata": {
        "colab": {
          "base_uri": "https://localhost:8080/"
        },
        "id": "HKdvnB5tK_bU",
        "outputId": "0d2e01cc-afb6-4c71-b084-d13c5e2f257f"
      },
      "execution_count": null,
      "outputs": [
        {
          "output_type": "stream",
          "name": "stdout",
          "text": [
            "<class 'pandas.core.frame.DataFrame'>\n",
            "Int64Index: 17992 entries, 19550 to 15795\n",
            "Columns: 304 entries, clntnum to f_purchase_lh\n",
            "dtypes: float64(44), int64(46), object(214)\n",
            "memory usage: 41.9+ MB\n"
          ]
        }
      ]
    },
    {
      "cell_type": "code",
      "source": [
        "df.isna().sum()"
      ],
      "metadata": {
        "colab": {
          "base_uri": "https://localhost:8080/"
        },
        "id": "rcoRBPoCMqL1",
        "outputId": "6405fe34-d4c0-4d6d-9c9a-512b9269f1eb"
      },
      "execution_count": null,
      "outputs": [
        {
          "output_type": "execute_result",
          "data": {
            "text/plain": [
              "clntnum                         0\n",
              "race_desc                    3996\n",
              "ctrycode_desc                  20\n",
              "clttype                         0\n",
              "stat_flag                       0\n",
              "                            ...  \n",
              "flg_gi_claim_29d435_ever    17992\n",
              "flg_gi_claim_058815_ever    17992\n",
              "flg_gi_claim_42e115_ever    17992\n",
              "flg_gi_claim_856320_ever    17992\n",
              "f_purchase_lh               17282\n",
              "Length: 304, dtype: int64"
            ]
          },
          "metadata": {},
          "execution_count": 35
        }
      ]
    },
    {
      "cell_type": "code",
      "source": [
        "df.dtypes"
      ],
      "metadata": {
        "id": "lArrwAubQKgf",
        "outputId": "8693e436-547e-4b72-c22c-d0e638b08ab0",
        "colab": {
          "base_uri": "https://localhost:8080/"
        }
      },
      "execution_count": null,
      "outputs": [
        {
          "output_type": "execute_result",
          "data": {
            "text/plain": [
              "clntnum                      object\n",
              "race_desc                    object\n",
              "ctrycode_desc                object\n",
              "clttype                      object\n",
              "stat_flag                    object\n",
              "                             ...   \n",
              "flg_gi_claim_29d435_ever     object\n",
              "flg_gi_claim_058815_ever     object\n",
              "flg_gi_claim_42e115_ever     object\n",
              "flg_gi_claim_856320_ever     object\n",
              "f_purchase_lh               float64\n",
              "Length: 304, dtype: object"
            ]
          },
          "metadata": {},
          "execution_count": 36
        }
      ]
    },
    {
      "cell_type": "markdown",
      "source": [
        "### 1.2 Data cleaning"
      ],
      "metadata": {
        "id": "VoIvarCSMpxc"
      }
    },
    {
      "cell_type": "code",
      "source": [
        "# Convert target col to 0 or 1\n",
        "df[\"f_purchase_lh\"] = df[\"f_purchase_lh\"].fillna(0)"
      ],
      "metadata": {
        "id": "1Rdsu84KHVSn"
      },
      "execution_count": null,
      "outputs": []
    },
    {
      "cell_type": "code",
      "source": [
        "# Set the threshold for missing values (50%)\n",
        "threshold = 0.5 * len(df)\n",
        "\n",
        "# Drop columns with 50% or more missing values\n",
        "df = df.dropna(axis=1, thresh=threshold)\n",
        "df.shape #dropped 82 columns"
      ],
      "metadata": {
        "colab": {
          "base_uri": "https://localhost:8080/"
        },
        "id": "N4CwMyg7HRdT",
        "outputId": "792cec3b-4c8a-4f51-f88f-4117b27a27c2"
      },
      "execution_count": null,
      "outputs": [
        {
          "output_type": "execute_result",
          "data": {
            "text/plain": [
              "(17992, 222)"
            ]
          },
          "metadata": {},
          "execution_count": 38
        }
      ]
    },
    {
      "cell_type": "code",
      "source": [
        "for t in ['race_desc', 'ctrycode_desc', 'clttype', 'stat_flag', 'cltsex_fix', 'hh_size_est', 'annual_income_est']:\n",
        "  print(df[t].value_counts())\n",
        "\n",
        "# will drop country code since majority is Singapore anyway"
      ],
      "metadata": {
        "colab": {
          "base_uri": "https://localhost:8080/"
        },
        "id": "hmDW0Fb5Umvc",
        "outputId": "28516cc0-b8e8-4349-a09e-306c1aec61cb"
      },
      "execution_count": null,
      "outputs": [
        {
          "output_type": "stream",
          "name": "stdout",
          "text": [
            "Chinese    10520\n",
            "Others      1699\n",
            "Malay        928\n",
            "Indian       849\n",
            "Name: race_desc, dtype: int64\n",
            "Singapore               17789\n",
            "Malaysia                   85\n",
            "Not Applicable             20\n",
            "Indonesia                  18\n",
            "Australia                  10\n",
            "United Kingdom              9\n",
            "United States               5\n",
            "China                       4\n",
            "Thailand                    3\n",
            "Taiwan (R.O.C)              3\n",
            "Philippines                 3\n",
            "Unknown Country Code        3\n",
            "United Arab Emirates        3\n",
            "Hong Kong                   2\n",
            "Japan                       2\n",
            "Denmark                     2\n",
            "South Africa                2\n",
            "Spain                       1\n",
            "Brunei Darussalam           1\n",
            "Sweden                      1\n",
            "Ireland                     1\n",
            "New Zealand                 1\n",
            "Netherlands                 1\n",
            "Italy                       1\n",
            "Bosnia-Herzegovina          1\n",
            "Canada                      1\n",
            "Name: ctrycode_desc, dtype: int64\n",
            "P    14657\n",
            "G     3311\n",
            "C       24\n",
            "Name: clttype, dtype: int64\n",
            "ACTIVE     17205\n",
            "LAPSED       775\n",
            "MATURED       12\n",
            "Name: stat_flag, dtype: int64\n",
            "Male      9773\n",
            "Female    8196\n",
            "Name: cltsex_fix, dtype: int64\n",
            "3     6096\n",
            "4     3222\n",
            ">4    2675\n",
            "2     2276\n",
            "1      837\n",
            "0       77\n",
            "Name: hh_size_est, dtype: int64\n",
            "E.BELOW30K     7771\n",
            "C.60K-100K     2679\n",
            "A.ABOVE200K    2097\n",
            "D.30K-60K      1911\n",
            "B.100K-200K     725\n",
            "Name: annual_income_est, dtype: int64\n"
          ]
        }
      ]
    },
    {
      "cell_type": "markdown",
      "source": [
        "#### Data Visualisation"
      ],
      "metadata": {
        "id": "DHhrDQdpldOy"
      }
    },
    {
      "cell_type": "code",
      "source": [
        "import matplotlib.pyplot as plt\n",
        "import seaborn as sns\n",
        "\n",
        "# showing target variable class distribution\n",
        "sns.countplot(x='f_purchase_lh', data=df)\n",
        "plt.title('Class Distribution')\n",
        "plt.show()\n",
        "\n",
        "# data is highly unbalanced, with minority class 1"
      ],
      "metadata": {
        "colab": {
          "base_uri": "https://localhost:8080/",
          "height": 472
        },
        "id": "ujqWObXHlgHJ",
        "outputId": "b7fa58af-414b-46a8-bfd5-30276971a8f0"
      },
      "execution_count": null,
      "outputs": [
        {
          "output_type": "display_data",
          "data": {
            "text/plain": [
              "<Figure size 640x480 with 1 Axes>"
            ],
            "image/png": "[encoded data removed]"
          },
          "metadata": {}
        }
      ]
    },
    {
      "cell_type": "markdown",
      "source": [
        "#### Data transformation"
      ],
      "metadata": {
        "id": "E_bF0dfilae7"
      }
    },
    {
      "cell_type": "code",
      "source": [
        "# Check which columns have object data types\n",
        "print(df.select_dtypes(include='object').columns.tolist())\n",
        "\n",
        "# Drop clntnum, ctrycode and date columns\n",
        "df = df.drop(columns=['clntnum', 'min_occ_date', 'cltdob_fix', 'ctrycode_desc'])\n",
        "df_columns_obj = df.select_dtypes(include='object').columns.tolist()\n",
        "\n",
        "# fill missing obj values with mode\n",
        "for title in df_columns_obj:\n",
        "  df[title] = df[title].fillna(df[title].mode()[0])\n",
        "\n",
        "### Manually change the object datatypes to integers / floats types\n",
        "# all ape/sumins/prempaid > float\n",
        "to_float = [col for col in df.columns if 'ape' in col or 'sumins' in col or 'prempaid' in col]\n",
        "df[to_float] = df[to_float].astype(float)\n",
        "\n",
        "# all n_months, hh_20, pop_20 > int\n",
        "to_int = [col for col in df.columns if 'n_months' in col]\n",
        "to_int.extend(['hh_20','pop_20'])\n",
        "df[to_int] = df[to_int].astype('int64')\n",
        "\n",
        "# race, clnt type, stat, sex > nominal, one hot encoding\n",
        "to_one_hot = ['race_desc', 'clttype', 'stat_flag', 'cltsex_fix']\n",
        "df = pd.get_dummies(df, columns=to_one_hot)\n",
        "\n",
        "# hh_size, annual income > ordinal encoding\n",
        "from sklearn.preprocessing import OrdinalEncoder\n",
        "to_ordinal = ['hh_size_est', 'annual_income_est']\n",
        "categories = [['0','1', '2', '3', '4', '>4'], ['E.BELOW30K','D.30K-60K','C.60K-100K' ,'B.100K-200K','A.ABOVE200K']]\n",
        "encoder = OrdinalEncoder(categories=categories)\n",
        "df[to_ordinal] = encoder.fit_transform(df[to_ordinal])"
      ],
      "metadata": {
        "colab": {
          "base_uri": "https://localhost:8080/"
        },
        "id": "qUsLCvo0NdmY",
        "outputId": "c5bfe697-14f5-49fd-a8dd-865822738b21"
      },
      "execution_count": null,
      "outputs": [
        {
          "output_type": "stream",
          "name": "stdout",
          "text": [
            "['clntnum', 'race_desc', 'ctrycode_desc', 'clttype', 'stat_flag', 'min_occ_date', 'cltdob_fix', 'cltsex_fix', 'hh_20', 'pop_20', 'hh_size_est', 'annual_income_est', 'ape_gi_42e115', 'ape_ltc_1280bf', 'ape_grp_6fc3e6', 'ape_grp_de05ae', 'ape_inv_dcd836', 'ape_grp_945b5a', 'ape_grp_6a5788', 'ape_ltc_43b9d5', 'ape_grp_9cdedf', 'ape_lh_d0adeb', 'ape_grp_1581d7', 'ape_grp_22decf', 'ape_lh_507c37', 'ape_lh_839f8a', 'ape_inv_e9f316', 'ape_gi_a10d1b', 'ape_gi_29d435', 'ape_grp_caa6ff', 'ape_grp_fd3bfb', 'ape_lh_e22a6a', 'ape_grp_70e1dd', 'ape_grp_e04c3a', 'ape_grp_fe5fb8', 'ape_gi_856320', 'ape_grp_94baec', 'ape_gi_058815', 'ape_grp_e91421', 'ape_lh_f852af', 'ape_lh_947b15', 'ape_32c74c', 'sumins_gi_42e115', 'sumins_ltc_1280bf', 'sumins_grp_6fc3e6', 'sumins_grp_de05ae', 'sumins_inv_dcd836', 'sumins_grp_945b5a', 'sumins_grp_6a5788', 'sumins_ltc_43b9d5', 'sumins_grp_9cdedf', 'sumins_lh_d0adeb', 'sumins_grp_1581d7', 'sumins_grp_22decf', 'sumins_lh_507c37', 'sumins_inv_e9f316', 'sumins_gi_a10d1b', 'sumins_gi_29d435', 'sumins_grp_caa6ff', 'sumins_grp_fd3bfb', 'sumins_lh_e22a6a', 'sumins_grp_70e1dd', 'sumins_grp_e04c3a', 'sumins_grp_fe5fb8', 'sumins_gi_856320', 'sumins_grp_94baec', 'sumins_gi_058815', 'sumins_grp_e91421', 'sumins_lh_f852af', 'sumins_lh_947b15', 'sumins_32c74c', 'prempaid_gi_42e115', 'prempaid_ltc_1280bf', 'prempaid_grp_6fc3e6', 'prempaid_grp_de05ae', 'prempaid_inv_dcd836', 'prempaid_grp_945b5a', 'prempaid_grp_6a5788', 'prempaid_ltc_43b9d5', 'prempaid_grp_9cdedf', 'prempaid_lh_d0adeb', 'prempaid_grp_1581d7', 'prempaid_grp_22decf', 'prempaid_lh_507c37', 'prempaid_lh_839f8a', 'prempaid_inv_e9f316', 'prempaid_gi_a10d1b', 'prempaid_gi_29d435', 'prempaid_grp_caa6ff', 'prempaid_grp_fd3bfb', 'prempaid_lh_e22a6a', 'prempaid_grp_70e1dd', 'prempaid_grp_e04c3a', 'prempaid_grp_fe5fb8', 'prempaid_gi_856320', 'prempaid_grp_94baec', 'prempaid_gi_058815', 'prempaid_grp_e91421', 'prempaid_lh_f852af', 'prempaid_lh_947b15', 'prempaid_32c74c', 'ape_839f8a', 'ape_e22a6a', 'ape_d0adeb', 'ape_c4bda5', 'ape_ltc', 'ape_507c37', 'ape_gi', 'sumins_839f8a', 'sumins_e22a6a', 'sumins_d0adeb', 'sumins_c4bda5', 'sumins_ltc', 'sumins_507c37', 'sumins_gi', 'prempaid_839f8a', 'prempaid_e22a6a', 'prempaid_d0adeb', 'prempaid_c4bda5', 'prempaid_ltc', 'prempaid_507c37', 'prempaid_gi', 'n_months_last_bought_839f8a', 'n_months_last_bought_e22a6a', 'n_months_last_bought_d0adeb', 'n_months_last_bought_c4bda5', 'n_months_last_bought_ltc', 'n_months_last_bought_507c37', 'n_months_last_bought_gi', 'n_months_last_bought_ltc_1280bf', 'n_months_last_bought_grp_6fc3e6', 'n_months_last_bought_grp_de05ae', 'n_months_last_bought_inv_dcd836', 'n_months_last_bought_grp_945b5a', 'n_months_last_bought_grp_6a5788', 'n_months_last_bought_ltc_43b9d5', 'n_months_last_bought_grp_9cdedf', 'n_months_last_bought_lh_d0adeb', 'n_months_last_bought_grp_1581d7', 'n_months_last_bought_grp_22decf', 'n_months_last_bought_lh_507c37', 'n_months_last_bought_lh_839f8a', 'n_months_last_bought_inv_e9f316', 'n_months_last_bought_grp_caa6ff', 'n_months_last_bought_grp_fd3bfb', 'n_months_last_bought_lh_e22a6a', 'n_months_last_bought_grp_70e1dd', 'n_months_last_bought_grp_e04c3a', 'n_months_last_bought_grp_fe5fb8', 'n_months_last_bought_grp_94baec', 'n_months_last_bought_grp_e91421', 'n_months_last_bought_lh_f852af', 'n_months_last_bought_lh_947b15', 'n_months_last_bought_32c74c']\n"
          ]
        }
      ]
    },
    {
      "cell_type": "code",
      "source": [
        "df.info()\n",
        "# check that no more object data types"
      ],
      "metadata": {
        "colab": {
          "base_uri": "https://localhost:8080/"
        },
        "id": "Ra3ejKMOYWZN",
        "outputId": "f8b939ae-5ac1-4460-c7ee-75b1b8478512"
      },
      "execution_count": null,
      "outputs": [
        {
          "output_type": "stream",
          "name": "stdout",
          "text": [
            "<class 'pandas.core.frame.DataFrame'>\n",
            "Int64Index: 17992 entries, 19550 to 15795\n",
            "Columns: 226 entries, flg_substandard to cltsex_fix_Male\n",
            "dtypes: float64(134), int64(80), uint8(12)\n",
            "memory usage: 29.7 MB\n"
          ]
        }
      ]
    },
    {
      "cell_type": "code",
      "source": [
        "# Identifiy numeric columns and fill null values with the median value\n",
        "numeric_cols = df.select_dtypes(include=[\"int64\", \"float64\"]).columns\n",
        "df[numeric_cols] = df[numeric_cols].apply(lambda x: x.fillna(x.median()))\n",
        "\n",
        "y = df[\"f_purchase_lh\"]\n",
        "X = df.drop(columns=['f_purchase_lh'])"
      ],
      "metadata": {
        "id": "HT348SYZPmr0"
      },
      "execution_count": null,
      "outputs": []
    },
    {
      "cell_type": "code",
      "source": [
        "import matplotlib.pyplot as plt\n",
        "\n",
        "# Plot a histogram of the 'value' column\n",
        "df['annual_income_est'].hist(color = \"skyblue\")\n",
        "\n",
        "plt.title(\"Histogram of Annual Income Estimates\")\n",
        "plt.xlabel(\"Annual Income Estimates\")\n",
        "plt.ylabel(\"Frequency\")\n",
        "\n",
        "plt.grid(True, linestyle=\"--\", alpha=0.7)\n",
        "\n",
        "# Show the plot\n",
        "plt.show()"
      ],
      "metadata": {
        "colab": {
          "base_uri": "https://localhost:8080/",
          "height": 472
        },
        "id": "QQfSmSGHvvoS",
        "outputId": "0978ba8b-1f18-4236-b8ec-18e02231d297"
      },
      "execution_count": null,
      "outputs": [
        {
          "output_type": "display_data",
          "data": {
            "text/plain": [
              "<Figure size 640x480 with 1 Axes>"
            ],
            "image/png": "[encoded data removed]"
          },
          "metadata": {}
        }
      ]
    },
    {
      "cell_type": "markdown",
      "source": [
        "## 2. Data Selection"
      ],
      "metadata": {
        "id": "sZO0qDKwRUs4"
      }
    },
    {
      "cell_type": "markdown",
      "source": [
        "### 2.1 Feature Scaling"
      ],
      "metadata": {
        "id": "UUYsJ7IhRjzP"
      }
    },
    {
      "cell_type": "code",
      "source": [
        "from sklearn.preprocessing import StandardScaler\n",
        "scaler = StandardScaler()\n",
        "df[df.columns] = scaler.fit_transform(df[df.columns])\n",
        "\n",
        "##### THIS ONE I NOT SURE?? DO WE STANDARDISE ALL COLUMNS OR JUST THE NUMERICAL ONES"
      ],
      "metadata": {
        "id": "h4S6N9ZSSm55"
      },
      "execution_count": null,
      "outputs": []
    },
    {
      "cell_type": "code",
      "source": [
        "## tried to remove the ordinal columns before standardising the rest but it created a lot of NaN values\n",
        "\n",
        "df_copy = df.copy(deep=True)\n",
        "to_std = df_copy.drop(to_ordinal, axis = 1) #remove ordinal columns\n",
        "\n",
        "# Standardize numerical columns\n",
        "scaler = StandardScaler()\n",
        "std_df_copy = scaler.fit_transform(to_std)\n",
        "df_copy_std = pd.DataFrame(std_df_copy, columns=to_std.columns)\n",
        "\n",
        "# Concatenate standardized numerical columns with original ordinal columns\n",
        "df_copy_final = pd.concat([df_copy_std, df_copy[to_ordinal]], axis=1)\n",
        "\n",
        "df_copy_final = df_copy_final.dropna() #I JUST DROPPED THE NA VALUES BC i tried many other things n it did not work i couldnt get rid of the NaNs so i gave up"
      ],
      "metadata": {
        "id": "uQJ-TFKk-9Qw"
      },
      "execution_count": null,
      "outputs": []
    },
    {
      "cell_type": "markdown",
      "source": [
        "### 2.2 Feature Selection"
      ],
      "metadata": {
        "id": "PoZWchkrKreE"
      }
    },
    {
      "cell_type": "markdown",
      "source": [
        "#### 2.2.1 Select K-Best"
      ],
      "metadata": {
        "id": "6prTEuZpbwrY"
      }
    },
    {
      "cell_type": "code",
      "source": [
        "from sklearn.feature_selection import SelectKBest, mutual_info_classif\n",
        "selector = SelectKBest(score_func=mutual_info_classif, k=5)\n",
        "\n",
        "selector.fit_transform(X, y)\n",
        "selected_feature_indices = selector.get_support(indices=True)\n",
        "selected_feature_names = X.columns[selected_feature_indices]\n",
        "\n",
        "print(\"Selected feature names:\", selected_feature_names)"
      ],
      "metadata": {
        "colab": {
          "base_uri": "https://localhost:8080/"
        },
        "id": "MZg0kRAjbwJ2",
        "outputId": "cf708d84-63b7-4bbd-ac28-c28db7d9ab51"
      },
      "execution_count": null,
      "outputs": [
        {
          "output_type": "stream",
          "name": "stdout",
          "text": [
            "Selected feature names: Index(['is_valid_dm', 'is_valid_email', 'n_months_last_bought_products',\n",
            "       'f_ever_bought_gi', 'n_months_last_bought_gi'],\n",
            "      dtype='object')\n"
          ]
        }
      ]
    },
    {
      "cell_type": "markdown",
      "source": [
        "#### 2.2.2 XGBoost"
      ],
      "metadata": {
        "id": "gWLGzlNVcFoo"
      }
    },
    {
      "cell_type": "code",
      "source": [
        "import xgboost as xgb\n",
        "XGBmodel = xgb.XGBClassifier()\n",
        "\n",
        "XGBmodel.fit(X, y)\n",
        "feature_importance_scores = XGBmodel.feature_importances_\n",
        "feature_ranking = np.argsort(feature_importance_scores)[::-1]\n",
        "selected_features = X.columns[feature_ranking[:5]]\n",
        "\n",
        "print(\"Selected feature names:\", selected_features)"
      ],
      "metadata": {
        "id": "eO7QCrdNWpMC",
        "colab": {
          "base_uri": "https://localhost:8080/"
        },
        "outputId": "e324069e-e5e7-4373-bf76-9984cc2da711"
      },
      "execution_count": null,
      "outputs": [
        {
          "output_type": "stream",
          "name": "stdout",
          "text": [
            "Selected feature names: Index(['is_valid_email', 'n_months_last_bought_gi', 'f_mindef_mha', 'f_retail',\n",
            "       'prempaid_grp_94baec'],\n",
            "      dtype='object')\n"
          ]
        }
      ]
    },
    {
      "cell_type": "markdown",
      "source": [
        "#### 2.2.3 Random Forests"
      ],
      "metadata": {
        "id": "FD1IQWL_clcD"
      }
    },
    {
      "cell_type": "code",
      "source": [
        "from sklearn.ensemble import RandomForestClassifier\n",
        "RFmodel = RandomForestClassifier(n_estimators=20, random_state=42, class_weight= 'balanced')\n",
        "\n",
        "RFmodel.fit(X, y)\n",
        "RFfeature_importances = RFmodel.feature_importances_\n",
        "RFtop_features = X.columns[np.argsort(RFfeature_importances)[::-1]][:5]\n",
        "\n",
        "print(\"Selected feature names:\", RFtop_features)"
      ],
      "metadata": {
        "colab": {
          "base_uri": "https://localhost:8080/"
        },
        "id": "rj6ELr9gcnZM",
        "outputId": "66edd4ba-1c01-4403-a53c-5ab065913913"
      },
      "execution_count": null,
      "outputs": [
        {
          "output_type": "stream",
          "name": "stdout",
          "text": [
            "Selected feature names: Index(['f_ever_bought_gi', 'n_months_last_bought_gi',\n",
            "       'n_months_last_bought_products', 'hh_size', 'pop_20'],\n",
            "      dtype='object')\n"
          ]
        }
      ]
    },
    {
      "cell_type": "markdown",
      "source": [
        "#### 2.2.4 Principal Component Analysis"
      ],
      "metadata": {
        "id": "OSeRdMBd-gsc"
      }
    },
    {
      "cell_type": "code",
      "source": [
        "from sklearn.decomposition import PCA\n",
        "pca_initial = PCA()\n",
        "pca_initial.fit(df)\n",
        "explained_variance = pca_initial.explained_variance_ratio_\n",
        "cumulative_variance = explained_variance.cumsum()\n",
        "n_components = np.argmax(cumulative_variance >= 0.95) + 1\n",
        "\n",
        "print(n_components)\n",
        "\n",
        "pca = PCA(n_components)\n",
        "df_pca = pca.fit_transform(df)\n",
        "n_pcs= pca.n_components_ # get number of components\n",
        "# get the index of the most important feature on EACH component\n",
        "most_important = [np.abs(pca.components_[i]).argmax() for i in range(n_pcs)]\n",
        "initial_feature_names = df.columns\n",
        "# get the most important feature names\n",
        "most_important_names = [initial_feature_names[most_important[i]] for i in range(n_pcs)]\n",
        "print(most_important_names)"
      ],
      "metadata": {
        "colab": {
          "base_uri": "https://localhost:8080/"
        },
        "id": "lyOATL73-unX",
        "outputId": "7c78673e-935a-4926-cef4-ac0293186b57"
      },
      "execution_count": null,
      "outputs": [
        {
          "output_type": "stream",
          "name": "stdout",
          "text": [
            "75\n",
            "['sumins_839f8a', 'n_months_last_bought_ltc_43b9d5', 'ape_ltc', 'ape_e22a6a', 'f_ever_bought_c4bda5', 'f_ever_bought_c4bda5', 'prempaid_507c37', 'sumins_ltc', 'prempaid_lh_839f8a', 'sumins_lh_f852af', 'clttype_P', 'sumins_grp_de05ae', 'ape_lh_507c37', 'ape_lh_507c37', 'stat_flag_ACTIVE', 'is_consent_to_mail', 'ape_grp_22decf', 'sumins_inv_e9f316', 'ape_grp_94baec', 'hh_size', 'sumins_inv_e9f316', 'prempaid_grp_945b5a', 'cltsex_fix_Female', 'race_desc_Chinese', 'cltsex_fix_Female', 'prempaid_grp_94baec', 'sumins_inv_e9f316', 'ape_grp_70e1dd', 'race_desc_Chinese', 'hh_20', 'ape_grp_6fc3e6', 'n_months_last_bought_grp_e04c3a', 'hh_20', 'prempaid_grp_caa6ff', 'ape_lh_947b15', 'n_months_last_bought_grp_e04c3a', 'flg_is_returned_mail', 'flg_is_revised_term', 'is_housewife_retiree', 'race_desc_Indian', 'race_desc_Others', 'flg_latest_being_cancel', 'clttype_C', 'sumins_grp_fe5fb8', 'stat_flag_MATURED', 'race_desc_Malay', 'flg_is_proposal', 'sumins_grp_fe5fb8', 'flg_has_life_claim', 'flg_is_returned_mail', 'flg_substandard', 'f_purchase_lh', 'flg_is_rental_flat', 'flg_gi_claim', 'flg_is_rental_flat', 'f_purchase_lh', 'is_consent_to_sms', 'flg_is_borderline_standard', 'flg_is_borderline_standard', 'is_sg_pr', 'annual_income_est', 'prempaid_lh_947b15', 'prempaid_lh_f852af', 'is_sg_pr', 'flg_has_health_claim', 'n_months_last_bought_grp_de05ae', 'n_months_last_bought_grp_de05ae', 'annual_income_est', 'flg_latest_being_lapse', 'sumins_lh_507c37', 'n_months_last_bought_lh_839f8a', 'n_months_last_bought_grp_fe5fb8', 'is_class_1_2', 'sumins_lh_507c37', 'sumins_grp_6a5788']\n"
          ]
        }
      ]
    },
    {
      "cell_type": "markdown",
      "source": [
        "**Splitting Dataset to Training and Test Set**"
      ],
      "metadata": {
        "id": "zPATxHJrlsRy"
      }
    },
    {
      "cell_type": "code",
      "source": [
        "from sklearn.model_selection import train_test_split\n",
        "from collections import Counter\n",
        "\n",
        "X_train, X_val, y_train, y_val = train_test_split(X, y, test_size=0.2, random_state=0)\n",
        "\n",
        "print('Before:', Counter(y_train))"
      ],
      "metadata": {
        "colab": {
          "base_uri": "https://localhost:8080/"
        },
        "id": "C0t8BLTMlozi",
        "outputId": "a50e7656-bd58-490a-ebdb-c93b14047d23"
      },
      "execution_count": null,
      "outputs": [
        {
          "output_type": "stream",
          "name": "stdout",
          "text": [
            "Before: Counter({0.0: 13809, 1.0: 584})\n"
          ]
        }
      ]
    },
    {
      "cell_type": "markdown",
      "source": [
        "**Finalizing Selected Features**"
      ],
      "metadata": {
        "id": "96TnaioVlFON"
      }
    },
    {
      "cell_type": "code",
      "source": [
        "# Finalizing selected features (selected based on consistency across methods and domain knowledge)\n",
        "selected = [\"n_months_last_bought_gi\",\n",
        "                  \"is_valid_email\",\n",
        "                  \"n_months_last_bought_products\",\n",
        "                  \"f_ever_bought_gi\",\n",
        "                  \"is_valid_dm\",\n",
        "                  \"f_mindef_mha\",\n",
        "                  \"f_retail\",\n",
        "                  \"hh_size\",\n",
        "                  \"pop_20\" ]\n",
        "X_train = X_train[selected]\n",
        "\n",
        "# not sure if we should select so many so it can be changed"
      ],
      "metadata": {
        "id": "-YsmMexQGgfX"
      },
      "execution_count": null,
      "outputs": []
    },
    {
      "cell_type": "code",
      "source": [
        "X_val = X_val[selected]"
      ],
      "metadata": {
        "id": "Sx_myYRq-EGN"
      },
      "execution_count": null,
      "outputs": []
    },
    {
      "cell_type": "markdown",
      "source": [
        "**Correlation Matrix of Selected Features and Target Variable**"
      ],
      "metadata": {
        "id": "LVXwvYA-rh7q"
      }
    },
    {
      "cell_type": "code",
      "source": [
        "df2= X_train\n",
        "df2[\"f_purchase_1h\"] = y_train"
      ],
      "metadata": {
        "colab": {
          "base_uri": "https://localhost:8080/"
        },
        "id": "zLoTqsJPrraz",
        "outputId": "6378186c-bf02-4ced-b88c-7ffcfb192042"
      },
      "execution_count": null,
      "outputs": [
        {
          "output_type": "stream",
          "name": "stderr",
          "text": [
            "<ipython-input-27-ac38d2ee89ab>:2: SettingWithCopyWarning: \n",
            "A value is trying to be set on a copy of a slice from a DataFrame.\n",
            "Try using .loc[row_indexer,col_indexer] = value instead\n",
            "\n",
            "See the caveats in the documentation: https://pandas.pydata.org/pandas-docs/stable/user_guide/indexing.html#returning-a-view-versus-a-copy\n",
            "  df2[\"f_purchase_1h\"] = y_train\n"
          ]
        }
      ]
    },
    {
      "cell_type": "code",
      "source": [
        "import seaborn as sns\n",
        "plt.figure(figsize=(10, 8))\n",
        "sns.heatmap(df2.corr(), annot=True, cmap='coolwarm', fmt=\".2f\")\n",
        "plt.title('Correlation Heatmap')\n",
        "plt.show()"
      ],
      "metadata": {
        "colab": {
          "base_uri": "https://localhost:8080/",
          "height": 909
        },
        "id": "nGsuM4lhrhBF",
        "outputId": "e4ce5fd0-0f23-48b7-8e3a-5756850b35e9"
      },
      "execution_count": null,
      "outputs": [
        {
          "output_type": "display_data",
          "data": {
            "text/plain": [
              "<Figure size 1000x800 with 2 Axes>"
            ],
            "image/png": "[encoded data removed]"
          },
          "metadata": {}
        }
      ]
    },
    {
      "cell_type": "markdown",
      "source": [
        "From the heatmap above, we see that features like n_months_last_bought_gi, and f_ever_bouht_gi seem to be a little more strongly correlated to the target variable f_purchase_1h, as compared to the other features.\n",
        "\n",
        "We also noticed strong correlation between f_ever_bought_gi, and n_months_last_bought_gi which could suggest a possible synergy effect between the two features.\n",
        "\n",
        "We shall be exploring the features and their relevance in predicting the target variable through various modelling techniques below."
      ],
      "metadata": {
        "id": "3OArTSk4t1gX"
      }
    },
    {
      "cell_type": "markdown",
      "source": [
        "### Data Visualisation"
      ],
      "metadata": {
        "id": "l6HhedHzpGsC"
      }
    },
    {
      "cell_type": "markdown",
      "source": [
        "### 2.3 Oversampling minority"
      ],
      "metadata": {
        "id": "QWgPbLntdeiG"
      }
    },
    {
      "cell_type": "code",
      "source": [
        "from collections import Counter\n",
        "from imblearn.over_sampling import SMOTE\n",
        "\n",
        "# SMOTE on training set only\n",
        "\n",
        "X_train, y_train = SMOTE().fit_resample(X_train, y_train)\n",
        "print('After:', Counter(y_train))"
      ],
      "metadata": {
        "colab": {
          "base_uri": "https://localhost:8080/"
        },
        "id": "8K8OFAJGRVEU",
        "outputId": "e1c8ade7-82b7-4fa0-976a-760f5a0688b9"
      },
      "execution_count": null,
      "outputs": [
        {
          "output_type": "stream",
          "name": "stdout",
          "text": [
            "After: Counter({1.0: 13809, 0.0: 13809})\n"
          ]
        }
      ]
    }
  ]
}